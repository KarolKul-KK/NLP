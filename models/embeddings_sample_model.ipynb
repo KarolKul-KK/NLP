{
 "cells": [
  {
   "cell_type": "code",
   "execution_count": 1,
   "metadata": {},
   "outputs": [],
   "source": [
    "import os\n",
    "from keras.preprocessing.text import Tokenizer\n",
    "from keras.preprocessing.sequence import pad_sequences\n",
    "from keras.models import Sequential\n",
    "from keras.layers import Embedding, Flatten, Dense, Dropout\n",
    "import numpy as np\n",
    "import matplotlib.pyplot as plt"
   ]
  },
  {
   "cell_type": "markdown",
   "metadata": {},
   "source": [
    "## Loading and preparing data"
   ]
  },
  {
   "cell_type": "code",
   "execution_count": 2,
   "metadata": {},
   "outputs": [],
   "source": [
    "imdb_dir = '/home/karolkul/Downloads/aclImdb'\n",
    "train_dir = os.path.join(imdb_dir, 'train')"
   ]
  },
  {
   "cell_type": "code",
   "execution_count": 3,
   "metadata": {},
   "outputs": [],
   "source": [
    "labels = []\n",
    "texts = []"
   ]
  },
  {
   "cell_type": "code",
   "execution_count": 4,
   "metadata": {},
   "outputs": [],
   "source": [
    "for label_type in ['neg', 'pos']:\n",
    "    dir_name = os.path.join(train_dir, label_type)\n",
    "    for fname in os.listdir(dir_name):\n",
    "        if fname[-4:] == \".txt\":\n",
    "            f = open(os.path.join(dir_name, fname))\n",
    "            texts.append(f.read())\n",
    "            f.close()\n",
    "            if label_type == 'neg':\n",
    "                labels.append(0)\n",
    "            else:\n",
    "                labels.append(1)"
   ]
  },
  {
   "cell_type": "code",
   "execution_count": 5,
   "metadata": {},
   "outputs": [],
   "source": [
    "# shortens reviews to 100 words\n",
    "maxlen = 100\n",
    "# training on 7000 samples\n",
    "training_samples = 7000\n",
    "# validation on 25 000 samples\n",
    "validation_samples = 25000\n",
    "# only first 10 000 words\n",
    "max_words = 10000"
   ]
  },
  {
   "cell_type": "code",
   "execution_count": 6,
   "metadata": {},
   "outputs": [],
   "source": [
    "tokenizer = Tokenizer(num_words=max_words)\n",
    "tokenizer.fit_on_texts(texts)\n",
    "sequences = tokenizer.texts_to_sequences(texts)"
   ]
  },
  {
   "cell_type": "code",
   "execution_count": 7,
   "metadata": {},
   "outputs": [
    {
     "name": "stdout",
     "output_type": "stream",
     "text": [
      "Found 88582 unique tokens.\n"
     ]
    }
   ],
   "source": [
    "word_index = tokenizer.word_index\n",
    "print('Found %s unique tokens.' %len(word_index))"
   ]
  },
  {
   "cell_type": "code",
   "execution_count": 8,
   "metadata": {},
   "outputs": [],
   "source": [
    "data = pad_sequences(sequences, maxlen=maxlen)"
   ]
  },
  {
   "cell_type": "code",
   "execution_count": 9,
   "metadata": {},
   "outputs": [
    {
     "name": "stdout",
     "output_type": "stream",
     "text": [
      "Shape of data tensor:  (25000, 100)\n",
      "Shape of tensor labels:  (25000,)\n"
     ]
    }
   ],
   "source": [
    "labels = np.asarray(labels)\n",
    "print('Shape of data tensor: ', data.shape)\n",
    "print('Shape of tensor labels: ', labels.shape)"
   ]
  },
  {
   "cell_type": "code",
   "execution_count": 10,
   "metadata": {},
   "outputs": [],
   "source": [
    "# splitting data to train and validation sets but before shuffle \n",
    "indices = np.arange(data.shape[0])\n",
    "np.random.shuffle(indices)\n",
    "data = data[indices]\n",
    "labels = labels[indices]\n",
    "\n",
    "x_train = data[:training_samples]\n",
    "y_train = labels[:training_samples]\n",
    "x_val = data[training_samples: training_samples + validation_samples]\n",
    "y_val = labels[training_samples: training_samples + validation_samples]"
   ]
  },
  {
   "cell_type": "code",
   "execution_count": 11,
   "metadata": {},
   "outputs": [],
   "source": [
    "glove_dir = '/home/karolkul/Downloads/glove'"
   ]
  },
  {
   "cell_type": "code",
   "execution_count": 12,
   "metadata": {},
   "outputs": [
    {
     "name": "stdout",
     "output_type": "stream",
     "text": [
      "Found 400000 vectors of words.\n"
     ]
    }
   ],
   "source": [
    "# parsing glove file\n",
    "embeddings_index = {}\n",
    "f = open(os.path.join(glove_dir, 'glove_100d.txt'))\n",
    "for line in f:\n",
    "    values = line.split()\n",
    "    word = values[0]\n",
    "    coefs = np.asarray(values[1:], dtype='float32')\n",
    "    embeddings_index[word] = coefs\n",
    "f.close()\n",
    "\n",
    "print('Found %s vectors of words.' % len(embeddings_index))"
   ]
  },
  {
   "cell_type": "code",
   "execution_count": 13,
   "metadata": {},
   "outputs": [],
   "source": [
    "# preparing glove embeddings matrix\n",
    "embedding_dim = 100\n",
    "\n",
    "embedding_matrix = np.zeros((max_words, embedding_dim))\n",
    "for word, i in word_index.items():\n",
    "    embedding_vector = embeddings_index.get(word)\n",
    "    if i < max_words:\n",
    "        if embedding_vector is not None:\n",
    "            # words which not found will be replace by 0\n",
    "            embedding_matrix[i] = embedding_vector"
   ]
  },
  {
   "cell_type": "markdown",
   "metadata": {},
   "source": [
    "## The model"
   ]
  },
  {
   "cell_type": "code",
   "execution_count": 14,
   "metadata": {},
   "outputs": [
    {
     "name": "stdout",
     "output_type": "stream",
     "text": [
      "Model: \"sequential\"\n",
      "_________________________________________________________________\n",
      "Layer (type)                 Output Shape              Param #   \n",
      "=================================================================\n",
      "embedding (Embedding)        (None, 100, 100)          1000000   \n",
      "_________________________________________________________________\n",
      "flatten (Flatten)            (None, 10000)             0         \n",
      "_________________________________________________________________\n",
      "dense (Dense)                (None, 32)                320032    \n",
      "_________________________________________________________________\n",
      "dropout (Dropout)            (None, 32)                0         \n",
      "_________________________________________________________________\n",
      "dense_1 (Dense)              (None, 32)                1056      \n",
      "_________________________________________________________________\n",
      "dense_2 (Dense)              (None, 1)                 33        \n",
      "=================================================================\n",
      "Total params: 1,321,121\n",
      "Trainable params: 1,321,121\n",
      "Non-trainable params: 0\n",
      "_________________________________________________________________\n"
     ]
    }
   ],
   "source": [
    "model = Sequential()\n",
    "model.add(Embedding(max_words, embedding_dim, input_length=maxlen))\n",
    "model.add(Flatten())\n",
    "model.add(Dense(32, activation='relu'))\n",
    "model.add(Dropout(0.5))\n",
    "model.add(Dense(32, activation='relu'))\n",
    "model.add(Dense(1, activation='sigmoid'))\n",
    "model.summary()"
   ]
  },
  {
   "cell_type": "code",
   "execution_count": 15,
   "metadata": {},
   "outputs": [],
   "source": [
    "# loading before trained embeeding words into Embedding layer\n",
    "model.layers[0].set_weights([embedding_matrix])\n",
    "# frozing Embedding layer by False arg\n",
    "model.layers[0].trainable = False"
   ]
  },
  {
   "cell_type": "code",
   "execution_count": 16,
   "metadata": {},
   "outputs": [
    {
     "name": "stdout",
     "output_type": "stream",
     "text": [
      "Epoch 1/25\n",
      "219/219 [==============================] - 1s 7ms/step - loss: 0.7216 - acc: 0.5037 - val_loss: 0.6907 - val_acc: 0.5614\n",
      "Epoch 2/25\n",
      "219/219 [==============================] - 1s 6ms/step - loss: 0.6808 - acc: 0.5674 - val_loss: 0.6469 - val_acc: 0.6492\n",
      "Epoch 3/25\n",
      "219/219 [==============================] - 1s 6ms/step - loss: 0.6397 - acc: 0.6259 - val_loss: 0.6416 - val_acc: 0.6263\n",
      "Epoch 4/25\n",
      "219/219 [==============================] - 1s 6ms/step - loss: 0.6060 - acc: 0.6566 - val_loss: 0.6028 - val_acc: 0.6779\n",
      "Epoch 5/25\n",
      "219/219 [==============================] - 1s 6ms/step - loss: 0.5704 - acc: 0.6787 - val_loss: 0.6338 - val_acc: 0.6452\n",
      "Epoch 6/25\n",
      "219/219 [==============================] - 1s 6ms/step - loss: 0.5378 - acc: 0.7017 - val_loss: 0.5970 - val_acc: 0.6787\n",
      "Epoch 7/25\n",
      "219/219 [==============================] - 1s 6ms/step - loss: 0.5075 - acc: 0.7214 - val_loss: 0.6098 - val_acc: 0.6865\n",
      "Epoch 8/25\n",
      "219/219 [==============================] - 1s 6ms/step - loss: 0.4794 - acc: 0.7397 - val_loss: 0.6108 - val_acc: 0.6866\n",
      "Epoch 9/25\n",
      "219/219 [==============================] - 1s 6ms/step - loss: 0.4592 - acc: 0.7509 - val_loss: 0.6298 - val_acc: 0.6911\n",
      "Epoch 10/25\n",
      "219/219 [==============================] - 1s 6ms/step - loss: 0.4399 - acc: 0.7629 - val_loss: 0.6157 - val_acc: 0.6893\n",
      "Epoch 11/25\n",
      "219/219 [==============================] - 1s 6ms/step - loss: 0.4212 - acc: 0.7753 - val_loss: 0.6122 - val_acc: 0.6791\n",
      "Epoch 12/25\n",
      "219/219 [==============================] - 1s 6ms/step - loss: 0.3890 - acc: 0.7840 - val_loss: 0.7325 - val_acc: 0.6942\n",
      "Epoch 13/25\n",
      "219/219 [==============================] - 1s 6ms/step - loss: 0.3734 - acc: 0.7936 - val_loss: 0.9107 - val_acc: 0.6946\n",
      "Epoch 14/25\n",
      "219/219 [==============================] - 1s 6ms/step - loss: 0.3488 - acc: 0.8064 - val_loss: 0.7635 - val_acc: 0.6734\n",
      "Epoch 15/25\n",
      "219/219 [==============================] - 1s 6ms/step - loss: 0.3432 - acc: 0.8147 - val_loss: 0.7826 - val_acc: 0.6909\n",
      "Epoch 16/25\n",
      "219/219 [==============================] - 1s 6ms/step - loss: 0.3245 - acc: 0.8204 - val_loss: 0.8600 - val_acc: 0.6774\n",
      "Epoch 17/25\n",
      "219/219 [==============================] - 1s 6ms/step - loss: 0.3178 - acc: 0.8214 - val_loss: 0.8243 - val_acc: 0.6859\n",
      "Epoch 18/25\n",
      "219/219 [==============================] - 1s 6ms/step - loss: 0.3135 - acc: 0.8287 - val_loss: 0.8785 - val_acc: 0.6848\n",
      "Epoch 19/25\n",
      "219/219 [==============================] - 1s 6ms/step - loss: 0.2836 - acc: 0.8476 - val_loss: 0.9637 - val_acc: 0.6775\n",
      "Epoch 20/25\n",
      "219/219 [==============================] - 1s 6ms/step - loss: 0.2879 - acc: 0.8426 - val_loss: 1.0407 - val_acc: 0.6919\n",
      "Epoch 21/25\n",
      "219/219 [==============================] - 1s 6ms/step - loss: 0.2730 - acc: 0.8564 - val_loss: 0.8592 - val_acc: 0.6874\n",
      "Epoch 22/25\n",
      "219/219 [==============================] - 1s 6ms/step - loss: 0.2694 - acc: 0.8589 - val_loss: 1.0925 - val_acc: 0.6911\n",
      "Epoch 23/25\n",
      "219/219 [==============================] - 1s 6ms/step - loss: 0.2470 - acc: 0.8726 - val_loss: 1.1776 - val_acc: 0.6765\n",
      "Epoch 24/25\n",
      "219/219 [==============================] - 1s 6ms/step - loss: 0.2473 - acc: 0.8709 - val_loss: 1.0424 - val_acc: 0.6913\n",
      "Epoch 25/25\n",
      "219/219 [==============================] - 1s 6ms/step - loss: 0.2399 - acc: 0.8744 - val_loss: 1.0004 - val_acc: 0.6910\n"
     ]
    }
   ],
   "source": [
    "# compile and train model\n",
    "model.compile(optimizer='rmsprop',\n",
    "             loss='binary_crossentropy',\n",
    "             metrics=['acc'])\n",
    "history = model.fit(x_train, y_train,\n",
    "                   epochs=25,\n",
    "                   batch_size=32,\n",
    "                   validation_data=(x_val, y_val))\n",
    "model.save_weights('pre_trained_glove_model.h')"
   ]
  },
  {
   "cell_type": "markdown",
   "metadata": {},
   "source": [
    "## Results"
   ]
  },
  {
   "cell_type": "code",
   "execution_count": 17,
   "metadata": {},
   "outputs": [
    {
     "data": {
      "text/plain": [
       "<matplotlib.legend.Legend at 0x7f3984685160>"
      ]
     },
     "execution_count": 17,
     "metadata": {},
     "output_type": "execute_result"
    },
    {
     "data": {
      "image/png": "[encoded data removed]",
      "text/plain": [
       "<Figure size 1440x1080 with 1 Axes>"
      ]
     },
     "metadata": {
      "needs_background": "light"
     },
     "output_type": "display_data"
    }
   ],
   "source": [
    "acc = history.history['acc']\n",
    "val_acc = history.history['val_acc']\n",
    "loss = history.history['loss']\n",
    "val_loss = history.history['val_loss']\n",
    "\n",
    "epochs = range(1, len(acc) + 1)\n",
    "\n",
    "plt.figure(figsize=(20, 15))\n",
    "plt.plot(epochs, acc, 'bo', label='Train accuracy')\n",
    "plt.plot(epochs, val_acc, 'b', label='Validation accuracy')\n",
    "plt.title('Train & Validation accuracy')\n",
    "plt.legend()"
   ]
  },
  {
   "cell_type": "code",
   "execution_count": 18,
   "metadata": {},
   "outputs": [
    {
     "data": {
      "text/plain": [
       "<matplotlib.legend.Legend at 0x7f39846481f0>"
      ]
     },
     "execution_count": 18,
     "metadata": {},
     "output_type": "execute_result"
    },
    {
     "data": {
      "image/png": "[encoded data removed]",
      "text/plain": [
       "<Figure size 1440x1080 with 1 Axes>"
      ]
     },
     "metadata": {
      "needs_background": "light"
     },
     "output_type": "display_data"
    }
   ],
   "source": [
    "plt.figure(figsize=(20, 15))\n",
    "plt.plot(epochs, loss, 'bo', label='Train loss')\n",
    "plt.plot(epochs, val_loss, 'b', label='Validation loss')\n",
    "plt.title('Train & Validation Loss')\n",
    "plt.legend()"
   ]
  },
  {
   "cell_type": "markdown",
   "metadata": {},
   "source": [
    "## Overfitting after 13 epoch."
   ]
  },
  {
   "cell_type": "code",
   "execution_count": 19,
   "metadata": {},
   "outputs": [],
   "source": [
    "# switching test data into tokens\n",
    "test_dir = os.path.join(imdb_dir, 'test')\n",
    "\n",
    "labels = []\n",
    "texts = []\n",
    "\n",
    "for label_type in ['neg', 'pos']:\n",
    "    dir_name = os.path.join(test_dir, label_type)\n",
    "    for fname in sorted(os.listdir(dir_name)):\n",
    "        if fname[-4:] == '.txt':\n",
    "            f = open(os.path.join(dir_name, fname))\n",
    "            texts.append(f.read())\n",
    "            f.close()\n",
    "            if label_type == 'neg':\n",
    "                labels.append(0)\n",
    "            else:\n",
    "                labels.append(1)\n",
    "                \n",
    "sequences = tokenizer.texts_to_sequences(texts)\n",
    "x_test = pad_sequences(sequences, maxlen=maxlen)\n",
    "y_test = np.asarray(labels)"
   ]
  },
  {
   "cell_type": "code",
   "execution_count": 20,
   "metadata": {},
   "outputs": [
    {
     "name": "stdout",
     "output_type": "stream",
     "text": [
      "782/782 [==============================] - 1s 1ms/step - loss: 0.9954 - acc: 0.6891\n"
     ]
    },
    {
     "data": {
      "text/plain": [
       "[0.9954110383987427, 0.6891199946403503]"
      ]
     },
     "execution_count": 20,
     "metadata": {},
     "output_type": "execute_result"
    }
   ],
   "source": [
    "model.load_weights('pre_trained_glove_model.h')\n",
    "model.evaluate(x_test, y_test)"
   ]
  },
  {
   "cell_type": "markdown",
   "metadata": {},
   "source": [
    "## Final score is 69% on 7k samples but model is overfitting after 9 epoch, i used dropout layer to minimalizing overfitting.\n",
    "At first attempt i used 200 samples and reach score 56%.\n"
   ]
  },
  {
   "cell_type": "code",
   "execution_count": null,
   "metadata": {},
   "outputs": [],
   "source": []
  }
 ],
 "metadata": {
  "kernelspec": {
   "display_name": "Python 3",
   "language": "python",
   "name": "python3"
  },
  "language_info": {
   "codemirror_mode": {
    "name": "ipython",
    "version": 3
   },
   "file_extension": ".py",
   "mimetype": "text/x-python",
   "name": "python",
   "nbconvert_exporter": "python",
   "pygments_lexer": "ipython3",
   "version": "3.8.5"
  }
 },
 "nbformat": 4,
 "nbformat_minor": 4
}
